{
 "cells": [
  {
   "cell_type": "code",
   "execution_count": 1,
   "metadata": {},
   "outputs": [],
   "source": [
    "import time\n",
    "import selenium.webdriver\n",
    "from selenium.webdriver.common.by import By\n",
    "\n",
    "\n",
    "\n",
    "from selenium.webdriver.chrome.options import Options\n",
    "chrome_options = Options()\n",
    "chrome_options.add_argument('--no-sandbox')\n",
    "chrome_options.add_argument('--disable-dev-shm-usage')\n",
    "chrome_options.add_argument(f'user-agent=Mozilla/5.0 (Windows NT 10.0; Win64; x64) AppleWebKit/537.36 (KHTML, like Gecko) Chrome/103.0.0.0 Safari/537.36')\n",
    "DRIVER = selenium.webdriver.Chrome( options=chrome_options)\n",
    "DRIVER.set_page_load_timeout(10)\n"
   ]
  },
  {
   "cell_type": "code",
   "execution_count": 5,
   "metadata": {},
   "outputs": [],
   "source": [
    "\n",
    "cookies = {\n",
    "    'JSESSIONID': 'P26LdMmZuVTuNEhisen4bUE3JUHlt-XHRHCvRkfJ.pje1gapp042',\n",
    "    'MO': 'P',\n",
    "    'ADC_CONN_539B3595F4E': '8D795FBABE3AF84E9141BAD6411C252E005BA98DBDF8C890EFCEE847AB7261A935647B26B9BF5919',\n",
    "    '_gid': 'GA1.3.1829084485.1686601813',\n",
    "    'ADC_REQ_2E94AF76E7': '5A5075395005E6BD1E7D4AC9086F9A5B8962E991B6D269B0E56C5B7E3D9BAE7675C552BAD3A2ECF3',\n",
    "    'OAuth_Token_Request_State': '16b29cb2-3142-4e4d-ad7e-fd5b56b3bdef',\n",
    "    '_ga_MXB38QL6YC': 'GS1.1.1686674362.2.0.1686674362.0.0.0',\n",
    "    '_ga': 'GA1.1.1586943006.1686601813',\n",
    "}"
   ]
  },
  {
   "cell_type": "code",
   "execution_count": 6,
   "metadata": {},
   "outputs": [],
   "source": [
    "DRIVER.delete_all_cookies()\n",
    "\n",
    "DRIVER.get(\"https://pje.tjba.jus.br/pje/login.seam\")\n",
    "DRIVER.delete_all_cookies()\n",
    "\n",
    "for key in cookies.keys():\n",
    "    # print({name: key, value: cookies[key]}) # just print\n",
    "    DRIVER.add_cookie({'name': key, 'value': cookies[key]})\n",
    "DRIVER.get(\"https://pje.tjba.jus.br/pje/Painel/painel_usuario/advogado.seam\")\n",
    "\n",
    "# tj2 https://pje2g.tjba.jus.br/pje/Processo/update.seam?idProcesso=940170&documentoReclamante=&tab=assunto&cadastraProcessoConsumidorGovBr=false"
   ]
  },
  {
   "cell_type": "code",
   "execution_count": 12,
   "metadata": {},
   "outputs": [],
   "source": [
    "DRIVER.get(\"https://pje.tjba.jus.br/pje/Processo/update.seam?idProcesso=12611082&documentoReclamante=&tab=assunto&cadastraProcessoConsumidorGovBr=false\")"
   ]
  },
  {
   "attachments": {},
   "cell_type": "markdown",
   "metadata": {},
   "source": [
    "PARTES"
   ]
  },
  {
   "cell_type": "code",
   "execution_count": 13,
   "metadata": {},
   "outputs": [],
   "source": [
    "DRIVER.execute_script('document.querySelector(\"#tabPartes_lbl\").click()')\n"
   ]
  },
  {
   "attachments": {},
   "cell_type": "markdown",
   "metadata": {},
   "source": [
    "INSIRIR PARTES"
   ]
  },
  {
   "cell_type": "code",
   "execution_count": null,
   "metadata": {},
   "outputs": [],
   "source": []
  },
  {
   "cell_type": "code",
   "execution_count": 16,
   "metadata": {},
   "outputs": [],
   "source": [
    "cpf = \"045.403.343-52\"\n",
    "DRIVER.execute_script(\"document.querySelector(\\\"#addParteA\\\").click()\")\n",
    "time.sleep(1)\n",
    "DRIVER.execute_script(f\"document.querySelector(\\\"input[id*='Decoration:preCadastroPessoa']\\\").value = \\\"{cpf}\\\"\")\n",
    "DRIVER.find_element(By.XPATH, \"//*[@id=\\\"preCadastroPessoaFisicaForm:pesquisarDocumentoPrincipal\\\"]\").click()"
   ]
  },
  {
   "cell_type": "code",
   "execution_count": 19,
   "metadata": {},
   "outputs": [],
   "source": []
  },
  {
   "cell_type": "code",
   "execution_count": null,
   "metadata": {},
   "outputs": [],
   "source": []
  }
 ],
 "metadata": {
  "kernelspec": {
   "display_name": "Python 3",
   "language": "python",
   "name": "python3"
  },
  "language_info": {
   "codemirror_mode": {
    "name": "ipython",
    "version": 3
   },
   "file_extension": ".py",
   "mimetype": "text/x-python",
   "name": "python",
   "nbconvert_exporter": "python",
   "pygments_lexer": "ipython3",
   "version": "3.8.10"
  },
  "orig_nbformat": 4
 },
 "nbformat": 4,
 "nbformat_minor": 2
}
